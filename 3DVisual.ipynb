{
 "cells": [
  {
   "cell_type": "code",
   "execution_count": null,
   "id": "initial_id",
   "metadata": {
    "ExecuteTime": {
     "start_time": "2024-05-12T16:07:00.028141Z"
    },
    "collapsed": true,
    "jupyter": {
     "is_executing": true
    }
   },
   "outputs": [
    {
     "data": {
      "application/vnd.jupyter.widget-view+json": {
       "model_id": "4b8d89d8f24a436b9a56f051ffe0c216",
       "version_major": 2,
       "version_minor": 0
      },
      "text/plain": [
       "interactive(children=(IntSlider(value=100, description='Progress'), Output()), _dom_classes=('widget-interact'…"
      ]
     },
     "metadata": {},
     "output_type": "display_data"
    },
    {
     "data": {
      "text/plain": [
       "<function ipywidgets.widgets.interaction._InteractFactory.__call__.<locals>.<lambda>(*args, **kwargs)>"
      ]
     },
     "execution_count": 2,
     "metadata": {},
     "output_type": "execute_result"
    }
   ],
   "source": [
    "import plotly.graph_objects as go\n",
    "from Earth import Earth\n",
    "import numpy as np\n",
    "from ipywidgets import interact, IntSlider\n",
    "\n",
    "class VisualisationPlotly:\n",
    "    def __init__(self, x_positions, y_positions, z_positions, x_positions1, y_positions1, z_positions1):\n",
    "        self.x_positions = x_positions\n",
    "        self.y_positions = y_positions\n",
    "        self.z_positions = z_positions\n",
    "        self.x_positions1 = x_positions1\n",
    "        self.y_positions1 = y_positions1\n",
    "        self.z_positions1 = z_positions1\n",
    "        self.re = Earth().re\n",
    "        self.rp = Earth().rp\n",
    "        self.show_range = 8000000\n",
    "\n",
    "    def create_earth_surface(self):\n",
    "        u = np.linspace(0, 2 * np.pi, 100)\n",
    "        v = np.linspace(0, np.pi, 100)\n",
    "        x = self.re * np.outer(np.cos(u), np.sin(v))\n",
    "        y = self.re * np.outer(np.sin(u), np.sin(v))\n",
    "        z = self.rp * np.outer(np.ones(np.size(u)), np.cos(v))\n",
    "        return go.Surface(x=x, y=y, z=z, opacity=0.5, colorscale='Blues')\n",
    "\n",
    "    def create_trajectory(self, x, y, z, color, progress=100, opacity=1.0):\n",
    "        progress_index = int(len(x) * progress / 100)\n",
    "        return go.Scatter3d(\n",
    "            x=x[:progress_index],\n",
    "            y=y[:progress_index],\n",
    "            z=z[:progress_index],\n",
    "            mode='lines',\n",
    "            line=dict(color=color, width=2),\n",
    "            opacity=opacity  # Set the opacity for the trajectory\n",
    "        )\n",
    "\n",
    "    def visualise(self, progress=100):\n",
    "        fig = go.Figure()\n",
    "        fig.add_trace(self.create_earth_surface())\n",
    "        fig.add_trace(self.create_trajectory(self.x_positions, self.y_positions, self.z_positions, 'red', progress, opacity=0.8))\n",
    "        fig.add_trace(self.create_trajectory(self.x_positions1, self.y_positions1, self.z_positions1, 'green', progress, opacity=0.6))\n",
    "\n",
    "        fig.update_layout(\n",
    "            scene=dict(\n",
    "                xaxis=dict(range=[-self.show_range, self.show_range], autorange=False),\n",
    "                yaxis=dict(range=[-self.show_range, self.show_range], autorange=False),\n",
    "                zaxis=dict(range=[-self.show_range, self.show_range], autorange=False),\n",
    "                aspectmode='cube'\n",
    "            ),\n",
    "            title=\"Satellite Trajectory Visualization\"\n",
    "        )\n",
    "        fig.show()\n",
    "\n",
    "\n",
    "orbit_radius = Earth().re + 1000000 \n",
    "theta = np.linspace(0, 2 * np.pi, 100)\n",
    "orbit_x = orbit_radius * np.cos(theta)\n",
    "orbit_y = orbit_radius * np.sin(theta)\n",
    "orbit_z = np.zeros_like(orbit_x)\n",
    "\n",
    "# Second trajectory\n",
    "orbit_x1 = orbit_radius * np.cos(theta)\n",
    "orbit_y1 = orbit_radius * np.sin(theta)\n",
    "orbit_z1 = np.zeros_like(orbit_x1)  \n",
    "\n",
    "visual_plotly = VisualisationPlotly(orbit_x, orbit_y, orbit_z, orbit_x1, orbit_y1, orbit_z1)\n",
    "interact(visual_plotly.visualise, progress=IntSlider(min=0, max=100, step=1, value=100, description='Progress'))\n"
   ]
  },
  {
   "cell_type": "code",
   "execution_count": null,
   "id": "88473f16",
   "metadata": {},
   "outputs": [],
   "source": []
  }
 ],
 "metadata": {
  "kernelspec": {
   "display_name": "Python 3",
   "language": "python",
   "name": "python3"
  },
  "language_info": {
   "codemirror_mode": {
    "name": "ipython",
    "version": 2
   },
   "file_extension": ".py",
   "mimetype": "text/x-python",
   "name": "python",
   "nbconvert_exporter": "python",
   "pygments_lexer": "ipython2",
   "version": "2.7.6"
  }
 },
 "nbformat": 4,
 "nbformat_minor": 5
}
