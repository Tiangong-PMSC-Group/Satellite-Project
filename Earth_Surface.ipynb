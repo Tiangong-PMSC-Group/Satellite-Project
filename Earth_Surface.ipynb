{
 "cells": [
  {
   "cell_type": "markdown",
   "metadata": {},
   "source": [
    "### This file carries out orthogonal projection from a Cartesian point in space to an ellipsoid Earth."
   ]
  },
  {
   "cell_type": "markdown",
   "metadata": {},
   "source": [
    "Equatorial Radius $r_{e} =  6,378,136.6 $ $ (m)$\n",
    "\n",
    "Polar Radius $r_{p} =   6,356,751.9 $ $ (m)$\n"
   ]
  },
  {
   "cell_type": "markdown",
   "metadata": {},
   "source": [
    "Mathematical Expression of Earth in Cartesian coordinates:\n",
    "\n",
    "$$ \\frac{x^2}{{r_e}^2} + \\frac{y^2}{{r_p}^2} + \\frac{z^2}{{r_e}^2} = 1 $$\n"
   ]
  },
  {
   "cell_type": "code",
   "execution_count": 3,
   "metadata": {},
   "outputs": [
    {
     "ename": "ImportError",
     "evalue": "cannot import name 'utilities' from 'utilities' (c:\\Users\\zhikh\\Documents\\GitHub\\Satellite-Project\\utilities.py)",
     "output_type": "error",
     "traceback": [
      "\u001b[1;31m---------------------------------------------------------------------------\u001b[0m",
      "\u001b[1;31mImportError\u001b[0m                               Traceback (most recent call last)",
      "Cell \u001b[1;32mIn[3], line 5\u001b[0m\n\u001b[0;32m      2\u001b[0m \u001b[38;5;28;01mimport\u001b[39;00m \u001b[38;5;21;01mmath\u001b[39;00m\n\u001b[0;32m      3\u001b[0m \u001b[38;5;28;01mimport\u001b[39;00m \u001b[38;5;21;01mmatplotlib\u001b[39;00m \u001b[38;5;28;01mas\u001b[39;00m \u001b[38;5;21;01mplt\u001b[39;00m\n\u001b[1;32m----> 5\u001b[0m \u001b[38;5;28;01mfrom\u001b[39;00m \u001b[38;5;21;01mutilities\u001b[39;00m \u001b[38;5;28;01mimport\u001b[39;00m utilities \u001b[38;5;28;01mas\u001b[39;00m ut\n\u001b[0;32m      7\u001b[0m \u001b[38;5;28;01mclass\u001b[39;00m \u001b[38;5;21;01mEarth\u001b[39;00m():\n\u001b[0;32m      8\u001b[0m     \u001b[38;5;28;01mdef\u001b[39;00m \u001b[38;5;21m__init__\u001b[39m(\u001b[38;5;28mself\u001b[39m, x\u001b[38;5;241m=\u001b[39m\u001b[38;5;241m0\u001b[39m, y\u001b[38;5;241m=\u001b[39m\u001b[38;5;241m0\u001b[39m, angle\u001b[38;5;241m=\u001b[39m\u001b[38;5;241m0\u001b[39m):\n",
      "\u001b[1;31mImportError\u001b[0m: cannot import name 'utilities' from 'utilities' (c:\\Users\\zhikh\\Documents\\GitHub\\Satellite-Project\\utilities.py)"
     ]
    }
   ],
   "source": [
    "import numpy as np\n",
    "import math\n",
    "import matplotlib as plt\n",
    "\n",
    "import utilities as ut\n",
    "\n",
    "class Earth():\n",
    "    def __init__(self, x=0, y=0, angle=0):\n",
    "        \n",
    "        '''\n",
    "        Properties of the Earth and its position.\n",
    "        '''\n",
    "\n",
    "        self.re = 6378136.6\n",
    "        self.rp = 6356751.9\n",
    "        self.omega = 7.2921159 * 10**(-5)  \n",
    "\n",
    "        self.x = x \n",
    "        self.y = y\n",
    "        self.angle = angle\n",
    "\n",
    "    def rotation_matrix(self):\n",
    "        '''\n",
    "        Returns the rotation matrix for the ellipse's rotation.\n",
    "        '''\n",
    "        a = math.cos(self.angle)\n",
    "        b = math.sin(self.angle)\n",
    "        return np.array([[a, -b], [b, a]])\n",
    "\n",
    "\n",
    "    def distane_to_surface(self, x, tolerance = 1e-6, max_iterations = 1000):\n",
    "        '''\n",
    "        Finds the minimum distance between the specified point and the ellipse\n",
    "        using Newton's method.\n",
    "\n",
    "        NEEDS TO BE OPTIMISED FOR POLAR COORDINATES\n",
    "        '''\n",
    "\n",
    "        '''\n",
    "        x comes in as a set of 3D polar coordinates, since we want it to be in cartesian \n",
    "\n",
    "        x1 - ellipse coordinate\n",
    "        x2 - normalised satellite coordinates\n",
    "        ''' \n",
    "\n",
    "        x = np.asarray(x)\n",
    "        relevant_state = np.array([[x[0]], [x[1]]])\n",
    "        x = ut.p_to_c(relevant_state)\n",
    "\n",
    "        r = self.rotation_matrix()\n",
    "        x2 = np.dot(r.T, x - [self.x, self.y])\n",
    "        t = math.atan2(x2[1], x2[0])\n",
    "\n",
    "        a = self.re\n",
    "        b = self.rp\n",
    "\n",
    "        if (x2[0] / a)**2 + (x2[1] / b)**2 < 1:\n",
    "            ts = np.linspace(0, 2 * math.pi, 24, endpoint = False)\n",
    "            xe = a * np.cos(ts)\n",
    "            ye = b * np.sin(ts)\n",
    "            delta = x2 - np.column_stack([xe, ye])\n",
    "            t = ts[np.argmin(np.linalg.norm(delta, axis = 1))]\n",
    "            \n",
    "        iterations = 0\n",
    "        error = tolerance\n",
    "        errors = []\n",
    "        ts = []\n",
    "                \n",
    "        while error >= tolerance and iterations < max_iterations:\n",
    "            cost = math.cos(t)\n",
    "            sint = math.sin(t)\n",
    "            x1 = np.array([a * cost, b * sint])\n",
    "            xp = np.array([-a * sint, b * cost])\n",
    "            xpp = np.array([-a * cost, -b * sint])\n",
    "            delta = x1 - x2\n",
    "            dp = np.dot(xp, delta)\n",
    "            dpp = np.dot(xpp, delta) + np.dot(xp, xp)\n",
    "\n",
    "            t -= dp / dpp\n",
    "            error = abs(dp / dpp)\n",
    "\n",
    "            errors.append(error)\n",
    "            ts.append(t)\n",
    "            iterations += 1\n",
    "        \n",
    "        ts = np.array(ts)\n",
    "        errors = np.array(errors)\n",
    "        y = np.linalg.norm(x1 - x2)\n",
    "        success = error < tolerance and iterations < max_iterations\n",
    "        return dict(x = t, y = y, error = error, iterations = iterations, success = success, xs = ts,  errors = errors)\n",
    "\n"
   ]
  },
  {
   "cell_type": "code",
   "execution_count": null,
   "metadata": {},
   "outputs": [],
   "source": []
  }
 ],
 "metadata": {
  "kernelspec": {
   "display_name": "Python 3",
   "language": "python",
   "name": "python3"
  },
  "language_info": {
   "codemirror_mode": {
    "name": "ipython",
    "version": 3
   },
   "file_extension": ".py",
   "mimetype": "text/x-python",
   "name": "python",
   "nbconvert_exporter": "python",
   "pygments_lexer": "ipython3",
   "version": "3.10.4"
  }
 },
 "nbformat": 4,
 "nbformat_minor": 2
}
