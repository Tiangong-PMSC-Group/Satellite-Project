{
 "cells": [
  {
   "cell_type": "markdown",
   "metadata": {},
   "source": [
    "### This file carries out orthogonal projection from a Cartesian point in space to an ellipsoid Earth."
   ]
  },
  {
   "cell_type": "markdown",
   "metadata": {},
   "source": [
    "Equatorial Radius $r_{e} =  6,378,136.6 $ $ (m)$\n",
    "\n",
    "Polar Radius $r_{p} =   6,356,751.9 $ $ (m)$\n"
   ]
  },
  {
   "cell_type": "markdown",
   "metadata": {},
   "source": [
    "Mathematical Expression of Earth in Cartesian coordinates:\n",
    "\n",
    "$$ \\frac{x^2}{{r_e}^2} + \\frac{y^2}{{r_p}^2} + \\frac{z^2}{{r_e}^2} = 1 $$\n"
   ]
  },
  {
   "cell_type": "code",
   "execution_count": null,
   "metadata": {},
   "outputs": [],
   "source": [
    "import numpy as np\n",
    "\n",
    "class Earth():\n",
    "    def __init__(self):\n",
    "        self.re = 6378136.6\n",
    "        self.rp = 6356751.9\n"
   ]
  }
 ],
 "metadata": {
  "language_info": {
   "name": "python"
  }
 },
 "nbformat": 4,
 "nbformat_minor": 2
}
