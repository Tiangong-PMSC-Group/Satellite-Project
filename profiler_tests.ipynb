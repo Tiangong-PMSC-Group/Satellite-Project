{
 "cells": [
  {
   "cell_type": "code",
   "execution_count": 52,
   "metadata": {},
   "outputs": [
    {
     "name": "stdout",
     "output_type": "stream",
     "text": [
      "The autoreload extension is already loaded. To reload it, use:\n",
      "  %reload_ext autoreload\n"
     ]
    }
   ],
   "source": [
    "%load_ext autoreload\n",
    "%autoreload 2"
   ]
  },
  {
   "cell_type": "code",
   "execution_count": 53,
   "metadata": {},
   "outputs": [],
   "source": [
    "%reload_ext autoreload"
   ]
  },
  {
   "cell_type": "code",
   "execution_count": 1,
   "metadata": {},
   "outputs": [],
   "source": [
    "import cProfile"
   ]
  },
  {
   "cell_type": "code",
   "execution_count": 2,
   "metadata": {},
   "outputs": [],
   "source": [
    "# Standart Libraries\n",
    "\n",
    "import numpy as np\n",
    "\n",
    "# Import files\n",
    "\n",
    "import utilities\n",
    "from Filter import ExtendedKalmanFilter\n",
    "from Radar import Radar\n",
    "from RadarSystem import RadarSystem\n",
    "from Earth import Earth\n",
    "from Satellite import Satellite\n",
    "from SatelliteState import SatelliteState\n",
    "\n",
    "from config import config\n"
   ]
  },
  {
   "cell_type": "code",
   "execution_count": 57,
   "metadata": {},
   "outputs": [],
   "source": [
    "earth = Earth()\n",
    "BACC =  RadarSystem(500, Earth()) "
   ]
  },
  {
   "cell_type": "code",
   "execution_count": 4,
   "metadata": {},
   "outputs": [],
   "source": [
    "pos = np.array([7000000, np.pi/2, 0])"
   ]
  },
  {
   "cell_type": "code",
   "execution_count": 5,
   "metadata": {},
   "outputs": [],
   "source": [
    "radar = BACC.radars[0]"
   ]
  },
  {
   "cell_type": "code",
   "execution_count": 51,
   "metadata": {},
   "outputs": [],
   "source": [
    "current_state_satellite_cord = pos\n",
    "current_state_earth_cord = utilities.spherical_to_spherical(current_state_satellite_cord)\n",
    "noise_states_earth_cord = BACC.try_detect_satellite(current_state_earth_cord, 0)"
   ]
  },
  {
   "cell_type": "code",
   "execution_count": 11,
   "metadata": {},
   "outputs": [
    {
     "data": {
      "text/plain": [
       "SatelliteState()"
      ]
     },
     "execution_count": 11,
     "metadata": {},
     "output_type": "execute_result"
    }
   ],
   "source": [
    "SatelliteState(pos)"
   ]
  },
  {
   "cell_type": "code",
   "execution_count": 58,
   "metadata": {},
   "outputs": [],
   "source": [
    "def func():\n",
    "    BACC.try_detect_satellite(current_state_earth_cord, 7)"
   ]
  },
  {
   "cell_type": "code",
   "execution_count": 60,
   "metadata": {},
   "outputs": [
    {
     "data": {
      "text/plain": [
       "array([7.00000000e+06, 1.57079633e+00, 0.00000000e+00])"
      ]
     },
     "execution_count": 60,
     "metadata": {},
     "output_type": "execute_result"
    }
   ],
   "source": [
    "pos"
   ]
  },
  {
   "cell_type": "code",
   "execution_count": 22,
   "metadata": {},
   "outputs": [],
   "source": [
    "def func():\n",
    "    radar.line_of_sight(pos, earth.ellipse_equation)"
   ]
  },
  {
   "cell_type": "code",
   "execution_count": 42,
   "metadata": {},
   "outputs": [],
   "source": [
    "for i in range(10000):\n",
    "    func()"
   ]
  },
  {
   "cell_type": "code",
   "execution_count": 35,
   "metadata": {},
   "outputs": [],
   "source": [
    "def try_detect_satellite(sat_pos, current_time) -> list[SatelliteState]:\n",
    "    BACC.update_radar_positions(current_time - BACC.last_time)\n",
    "    BACC.last_time = current_time\n",
    "    radars = [radar for radar in BACC.radars if radar.is_time(current_time)]\n",
    "    results = []\n",
    "    for radar in radars:\n",
    "        find = radar.line_of_sight(sat_pos, BACC.earth.ellipse_equation)\n",
    "        if find:\n",
    "            #result = radar.detect_satellite_pos_short(sat_pos, current_time)\n",
    "            result = SatelliteState(sat_pos)\n",
    "            results.append(result)\n",
    "    return results"
   ]
  },
  {
   "cell_type": "code",
   "execution_count": 54,
   "metadata": {},
   "outputs": [
    {
     "data": {
      "text/plain": [
       "[SatelliteState(),\n",
       " SatelliteState(),\n",
       " SatelliteState(),\n",
       " SatelliteState(),\n",
       " SatelliteState(),\n",
       " SatelliteState(),\n",
       " SatelliteState(),\n",
       " SatelliteState(),\n",
       " SatelliteState(),\n",
       " SatelliteState(),\n",
       " SatelliteState(),\n",
       " SatelliteState()]"
      ]
     },
     "execution_count": 54,
     "metadata": {},
     "output_type": "execute_result"
    }
   ],
   "source": [
    "BACC.try_detect_satellite(sat_pos= pos, current_time=7)"
   ]
  },
  {
   "cell_type": "code",
   "execution_count": 37,
   "metadata": {},
   "outputs": [],
   "source": [
    "def func():\n",
    "    try_detect_satellite(pos, current_time=0)"
   ]
  },
  {
   "cell_type": "code",
   "execution_count": 49,
   "metadata": {},
   "outputs": [
    {
     "data": {
      "text/plain": [
       "[]"
      ]
     },
     "execution_count": 49,
     "metadata": {},
     "output_type": "execute_result"
    }
   ],
   "source": [
    "BACC.try_detect_satellite(current_state_earth_cord, 7)"
   ]
  },
  {
   "cell_type": "code",
   "execution_count": 59,
   "metadata": {},
   "outputs": [
    {
     "name": "stdout",
     "output_type": "stream",
     "text": [
      "         11442 function calls in 0.012 seconds\n",
      "\n",
      "   Ordered by: standard name\n",
      "\n",
      "   ncalls  tottime  percall  cumtime  percall filename:lineno(function)\n",
      "        1    0.000    0.000    0.012    0.012 3010304608.py:1(func)\n",
      "       15    0.000    0.000    0.000    0.000 <__array_function__ internals>:177(any)\n",
      "       15    0.000    0.000    0.000    0.000 <__array_function__ internals>:177(shape)\n",
      "     1000    0.000    0.000    0.001    0.000 <__array_function__ internals>:177(size)\n",
      "        1    0.000    0.000    0.012    0.012 <string>:1(<module>)\n",
      "      620    0.001    0.000    0.001    0.000 Earth.py:24(ellipse_equation)\n",
      "      500    0.003    0.000    0.011    0.000 Radar.py:17(line_of_sight)\n",
      "      500    0.000    0.000    0.000    0.000 Radar.py:49(is_time)\n",
      "       15    0.000    0.000    0.001    0.000 Radar.py:55(detect_satellite_pos_short)\n",
      "       15    0.000    0.000    0.001    0.000 Radar.py:61(add_noise)\n",
      "        1    0.000    0.000    0.012    0.012 RadarSystem.py:59(try_detect_satellite)\n",
      "        1    0.000    0.000    0.000    0.000 RadarSystem.py:62(<listcomp>)\n",
      "        1    0.000    0.000    0.000    0.000 RadarSystem.py:71(update_radar_positions)\n",
      "       15    0.000    0.000    0.000    0.000 SatelliteState.py:13(__init__)\n",
      "       15    0.000    0.000    0.000    0.000 fromnumeric.py:1987(_shape_dispatcher)\n",
      "       15    0.000    0.000    0.000    0.000 fromnumeric.py:1991(shape)\n",
      "       15    0.000    0.000    0.000    0.000 fromnumeric.py:2328(_any_dispatcher)\n",
      "       15    0.000    0.000    0.000    0.000 fromnumeric.py:2333(any)\n",
      "     1000    0.000    0.000    0.000    0.000 fromnumeric.py:3190(_size_dispatcher)\n",
      "     1000    0.000    0.000    0.000    0.000 fromnumeric.py:3194(size)\n",
      "       15    0.000    0.000    0.000    0.000 fromnumeric.py:69(_wrapreduction)\n",
      "       15    0.000    0.000    0.000    0.000 fromnumeric.py:70(<dictcomp>)\n",
      "     1000    0.004    0.000    0.006    0.000 utilities.py:74(p_to_c)\n",
      "        1    0.000    0.000    0.012    0.012 {built-in method builtins.exec}\n",
      "       30    0.000    0.000    0.000    0.000 {built-in method builtins.len}\n",
      "     3000    0.000    0.000    0.000    0.000 {built-in method math.isinf}\n",
      "     1030    0.000    0.000    0.000    0.000 {built-in method numpy.array}\n",
      "     1030    0.000    0.000    0.001    0.000 {built-in method numpy.core._multiarray_umath.implement_array_function}\n",
      "       15    0.000    0.000    0.000    0.000 {method 'append' of 'list' objects}\n",
      "        1    0.000    0.000    0.000    0.000 {method 'disable' of '_lsprof.Profiler' objects}\n",
      "      500    0.001    0.000    0.001    0.000 {method 'dot' of 'numpy.ndarray' objects}\n",
      "       15    0.000    0.000    0.000    0.000 {method 'items' of 'dict' objects}\n",
      "       15    0.000    0.000    0.000    0.000 {method 'normal' of 'numpy.random.mtrand.RandomState' objects}\n",
      "       15    0.000    0.000    0.000    0.000 {method 'reduce' of 'numpy.ufunc' objects}\n",
      "\n",
      "\n"
     ]
    }
   ],
   "source": [
    "cProfile.run('func()')"
   ]
  },
  {
   "cell_type": "code",
   "execution_count": null,
   "metadata": {},
   "outputs": [],
   "source": []
  },
  {
   "cell_type": "code",
   "execution_count": null,
   "metadata": {},
   "outputs": [],
   "source": []
  }
 ],
 "metadata": {
  "kernelspec": {
   "display_name": "base",
   "language": "python",
   "name": "python3"
  },
  "language_info": {
   "codemirror_mode": {
    "name": "ipython",
    "version": 3
   },
   "file_extension": ".py",
   "mimetype": "text/x-python",
   "name": "python",
   "nbconvert_exporter": "python",
   "pygments_lexer": "ipython3",
   "version": "3.11.5"
  }
 },
 "nbformat": 4,
 "nbformat_minor": 2
}
