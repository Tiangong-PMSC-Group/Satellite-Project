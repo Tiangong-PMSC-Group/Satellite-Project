{
 "cells": [
  {
   "cell_type": "code",
   "execution_count": 52,
   "metadata": {},
   "outputs": [
    {
     "name": "stdout",
     "output_type": "stream",
     "text": [
      "The autoreload extension is already loaded. To reload it, use:\n",
      "  %reload_ext autoreload\n"
     ]
    }
   ],
   "source": [
    "%load_ext autoreload\n",
    "%autoreload 2"
   ]
  },
  {
   "cell_type": "code",
   "execution_count": 53,
   "metadata": {},
   "outputs": [],
   "source": [
    "%reload_ext autoreload"
   ]
  },
  {
   "cell_type": "code",
   "execution_count": 54,
   "metadata": {},
   "outputs": [],
   "source": [
    "import cProfile"
   ]
  },
  {
   "cell_type": "code",
   "execution_count": 55,
   "metadata": {},
   "outputs": [],
   "source": [
    "# Standart Libraries\n",
    "\n",
    "import numpy as np\n",
    "\n",
    "# Import files\n",
    "\n",
    "import utilities\n",
    "from Filter import ExtendedKalmanFilter\n",
    "from Radar import Radar\n",
    "from RadarSystem import RadarSystem\n",
    "from Earth import Earth\n",
    "from Satellite import Satellite\n",
    "from SatelliteState import SatelliteState\n",
    "\n",
    "from config import config\n"
   ]
  },
  {
   "cell_type": "code",
   "execution_count": 56,
   "metadata": {},
   "outputs": [],
   "source": [
    "earth = Earth()\n",
    "BACC =  RadarSystem(500, Earth()) "
   ]
  },
  {
   "cell_type": "code",
   "execution_count": 57,
   "metadata": {},
   "outputs": [],
   "source": [
    "pos = np.array([7000000, np.pi/2, 0])"
   ]
  },
  {
   "cell_type": "code",
   "execution_count": 58,
   "metadata": {},
   "outputs": [],
   "source": [
    "radar = BACC.radars[0]"
   ]
  },
  {
   "cell_type": "code",
   "execution_count": 59,
   "metadata": {},
   "outputs": [],
   "source": [
    "current_state_satellite_cord = pos\n",
    "current_state_earth_cord = utilities.spherical_to_spherical(current_state_satellite_cord)\n",
    "noise_states_earth_cord = BACC.try_detect_satellite(current_state_earth_cord, 0)"
   ]
  },
  {
   "cell_type": "code",
   "execution_count": 60,
   "metadata": {},
   "outputs": [],
   "source": [
    "def func():\n",
    "    BACC.try_detect_satellite(current_state_earth_cord, 0)"
   ]
  },
  {
   "cell_type": "code",
   "execution_count": 61,
   "metadata": {},
   "outputs": [],
   "source": [
    "for i in range(1000):\n",
    "    func()"
   ]
  },
  {
   "cell_type": "code",
   "execution_count": 10,
   "metadata": {},
   "outputs": [
    {
     "name": "stdout",
     "output_type": "stream",
     "text": [
      "         10849 function calls in 0.013 seconds\n",
      "\n",
      "   Ordered by: standard name\n",
      "\n",
      "   ncalls  tottime  percall  cumtime  percall filename:lineno(function)\n",
      "        1    0.000    0.000    0.013    0.013 1448886440.py:1(func)\n",
      "     1000    0.001    0.000    0.001    0.000 <__array_function__ internals>:177(size)\n",
      "        1    0.000    0.000    0.013    0.013 <string>:1(<module>)\n",
      "      836    0.001    0.000    0.001    0.000 Earth.py:24(ellipse_equation)\n",
      "      500    0.004    0.000    0.012    0.000 Radar.py:18(line_of_sight)\n",
      "        7    0.000    0.000    0.000    0.000 Radar.py:41(detect_satellite_pos)\n",
      "        1    0.000    0.000    0.013    0.013 RadarSystem.py:47(try_detect_satellite)\n",
      "        1    0.000    0.000    0.000    0.000 RadarSystem.py:62(update_radar_positions)\n",
      "     1000    0.000    0.000    0.000    0.000 fromnumeric.py:3190(_size_dispatcher)\n",
      "     1000    0.000    0.000    0.000    0.000 fromnumeric.py:3194(size)\n",
      "     1000    0.005    0.000    0.006    0.000 utilities.py:74(p_to_c)\n",
      "        1    0.000    0.000    0.013    0.013 {built-in method builtins.exec}\n",
      "     3000    0.000    0.000    0.000    0.000 {built-in method math.isinf}\n",
      "     1000    0.000    0.000    0.000    0.000 {built-in method numpy.array}\n",
      "     1000    0.000    0.000    0.000    0.000 {built-in method numpy.core._multiarray_umath.implement_array_function}\n",
      "        1    0.000    0.000    0.000    0.000 {method 'disable' of '_lsprof.Profiler' objects}\n",
      "      500    0.001    0.000    0.001    0.000 {method 'dot' of 'numpy.ndarray' objects}\n",
      "\n",
      "\n"
     ]
    }
   ],
   "source": [
    "cProfile.run('func()')"
   ]
  },
  {
   "cell_type": "code",
   "execution_count": null,
   "metadata": {},
   "outputs": [],
   "source": []
  },
  {
   "cell_type": "code",
   "execution_count": null,
   "metadata": {},
   "outputs": [],
   "source": []
  }
 ],
 "metadata": {
  "kernelspec": {
   "display_name": "base",
   "language": "python",
   "name": "python3"
  },
  "language_info": {
   "codemirror_mode": {
    "name": "ipython",
    "version": 3
   },
   "file_extension": ".py",
   "mimetype": "text/x-python",
   "name": "python",
   "nbconvert_exporter": "python",
   "pygments_lexer": "ipython3",
   "version": "3.11.5"
  }
 },
 "nbformat": 4,
 "nbformat_minor": 2
}
