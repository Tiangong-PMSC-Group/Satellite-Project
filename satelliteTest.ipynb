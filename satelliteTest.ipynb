{
 "cells": [
  {
   "cell_type": "code",
   "execution_count": 6,
   "metadata": {},
   "outputs": [
    {
     "ename": "AttributeError",
     "evalue": "'int' object has no attribute 'get_state'",
     "output_type": "error",
     "traceback": [
      "\u001b[1;31m---------------------------------------------------------------------------\u001b[0m",
      "\u001b[1;31mAttributeError\u001b[0m                            Traceback (most recent call last)",
      "Cell \u001b[1;32mIn[6], line 19\u001b[0m\n\u001b[0;32m     14\u001b[0m sat_state \u001b[38;5;241m=\u001b[39m SatelliteState(np\u001b[38;5;241m.\u001b[39marray([init_r, np\u001b[38;5;241m.\u001b[39mpi\u001b[38;5;241m/\u001b[39m\u001b[38;5;241m2\u001b[39m, \u001b[38;5;241m0\u001b[39m]), np\u001b[38;5;241m.\u001b[39marray([\u001b[38;5;241m0\u001b[39m]), np\u001b[38;5;241m.\u001b[39marray([\u001b[38;5;241m0\u001b[39m, tang_vel, \u001b[38;5;241m0\u001b[39m]), np\u001b[38;5;241m.\u001b[39marray([\u001b[38;5;241m0\u001b[39m]))\n\u001b[0;32m     16\u001b[0m earth \u001b[38;5;241m=\u001b[39m Earth()\n\u001b[1;32m---> 19\u001b[0m sat1 \u001b[38;5;241m=\u001b[39m Satellite(sat_state, \u001b[38;5;241m0\u001b[39m, earth\u001b[38;5;241m=\u001b[39mearth)\n",
      "File \u001b[1;32md:\\Users\\andre\\OneDrive\\Documentos\\Warwick\\Group Project\\Satellite-Project\\decorators.py:17\u001b[0m, in \u001b[0;36msingleton.<locals>.get_instance\u001b[1;34m(*args, **kwargs)\u001b[0m\n\u001b[0;32m     15\u001b[0m \u001b[38;5;28;01mdef\u001b[39;00m \u001b[38;5;21mget_instance\u001b[39m(\u001b[38;5;241m*\u001b[39margs, \u001b[38;5;241m*\u001b[39m\u001b[38;5;241m*\u001b[39mkwargs):\n\u001b[0;32m     16\u001b[0m     \u001b[38;5;28;01mif\u001b[39;00m \u001b[38;5;28mcls\u001b[39m \u001b[38;5;129;01mnot\u001b[39;00m \u001b[38;5;129;01min\u001b[39;00m instances:\n\u001b[1;32m---> 17\u001b[0m         instances[\u001b[38;5;28mcls\u001b[39m] \u001b[38;5;241m=\u001b[39m \u001b[38;5;28mcls\u001b[39m(\u001b[38;5;241m*\u001b[39margs, \u001b[38;5;241m*\u001b[39m\u001b[38;5;241m*\u001b[39mkwargs)\n\u001b[0;32m     18\u001b[0m     \u001b[38;5;28;01mreturn\u001b[39;00m instances[\u001b[38;5;28mcls\u001b[39m]\n",
      "File \u001b[1;32md:\\Users\\andre\\OneDrive\\Documentos\\Warwick\\Group Project\\Satellite-Project\\Satellite.py:29\u001b[0m, in \u001b[0;36mSatellite.__init__\u001b[1;34m(self, true_state0, prior_state, filter, earth)\u001b[0m\n\u001b[0;32m     27\u001b[0m observation_matrix \u001b[38;5;241m=\u001b[39m np\u001b[38;5;241m.\u001b[39mfill_diagonal(np\u001b[38;5;241m.\u001b[39mzeros((n, \u001b[38;5;241m3\u001b[39m \u001b[38;5;241m*\u001b[39m n)), \u001b[38;5;241m1\u001b[39m)\n\u001b[0;32m     28\u001b[0m observation_noise \u001b[38;5;241m=\u001b[39m np\u001b[38;5;241m.\u001b[39mdiag(\u001b[38;5;28mlist\u001b[39m(config[\u001b[38;5;124m'\u001b[39m\u001b[38;5;124mradar\u001b[39m\u001b[38;5;124m'\u001b[39m][\u001b[38;5;124m'\u001b[39m\u001b[38;5;124mnoise\u001b[39m\u001b[38;5;124m'\u001b[39m]\u001b[38;5;241m.\u001b[39mvalues())) \u001b[38;5;66;03m#Check if the noise values in the radar (in the config file) are in the correct order\u001b[39;00m\n\u001b[1;32m---> 29\u001b[0m \u001b[38;5;28mself\u001b[39m\u001b[38;5;241m.\u001b[39mfilter \u001b[38;5;241m=\u001b[39m \u001b[38;5;28mfilter\u001b[39m(prior_state\u001b[38;5;241m.\u001b[39mget_state(), prior_state\u001b[38;5;241m.\u001b[39mcov, \u001b[38;5;28;01mNone\u001b[39;00m, observation_matrix, observation_noise, \u001b[38;5;28;01mNone\u001b[39;00m)\n\u001b[0;32m     31\u001b[0m \u001b[38;5;28mself\u001b[39m\u001b[38;5;241m.\u001b[39mmass \u001b[38;5;241m=\u001b[39m config[\u001b[38;5;124m'\u001b[39m\u001b[38;5;124msatellite\u001b[39m\u001b[38;5;124m'\u001b[39m][\u001b[38;5;124m'\u001b[39m\u001b[38;5;124mmass\u001b[39m\u001b[38;5;124m'\u001b[39m]\n\u001b[0;32m     32\u001b[0m \u001b[38;5;28mself\u001b[39m\u001b[38;5;241m.\u001b[39marea \u001b[38;5;241m=\u001b[39m config[\u001b[38;5;124m'\u001b[39m\u001b[38;5;124msatellite\u001b[39m\u001b[38;5;124m'\u001b[39m][\u001b[38;5;124m'\u001b[39m\u001b[38;5;124marea\u001b[39m\u001b[38;5;124m'\u001b[39m]\n",
      "\u001b[1;31mAttributeError\u001b[0m: 'int' object has no attribute 'get_state'"
     ]
    }
   ],
   "source": [
    "from Satellite import Satellite\n",
    "from SatelliteState import SatelliteState\n",
    "from Earth import Earth\n",
    "\n",
    "import numpy as np\n",
    "\n",
    "%load_ext autoreload\n",
    "%autoreload 2\n",
    "\n",
    "init_r = 6378136.6+200000\n",
    "angular_vel = 0.001454\n",
    "tang_vel = angular_vel * init_r\n",
    "\n",
    "sat_state = SatelliteState(np.array([init_r, np.pi/2, 0]), np.array([0]), np.array([0, tang_vel, 0]), np.array([0]))\n",
    "\n",
    "earth = Earth()\n",
    "\n",
    "\n",
    "sat1 = Satellite(sat_state, 0, earth=earth)"
   ]
  },
  {
   "cell_type": "code",
   "execution_count": null,
   "metadata": {},
   "outputs": [],
   "source": []
  }
 ],
 "metadata": {
  "kernelspec": {
   "display_name": "base",
   "language": "python",
   "name": "python3"
  },
  "language_info": {
   "codemirror_mode": {
    "name": "ipython",
    "version": 3
   },
   "file_extension": ".py",
   "mimetype": "text/x-python",
   "name": "python",
   "nbconvert_exporter": "python",
   "pygments_lexer": "ipython3",
   "version": "3.11.5"
  }
 },
 "nbformat": 4,
 "nbformat_minor": 2
}
