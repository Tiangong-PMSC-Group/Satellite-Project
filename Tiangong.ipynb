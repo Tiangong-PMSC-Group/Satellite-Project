{
 "cells": [
  {
   "cell_type": "code",
   "execution_count": null,
   "metadata": {},
   "outputs": [],
   "source": [
    "\n",
    "class Tiangong():\n",
    "    def __init__(self):\n",
    "        pass\n",
    "\n",
    "    def Fall(self):\n",
    "        pass \n",
    "\n"
   ]
  }
 ],
 "metadata": {
  "language_info": {
   "name": "python"
  }
 },
 "nbformat": 4,
 "nbformat_minor": 2
}
