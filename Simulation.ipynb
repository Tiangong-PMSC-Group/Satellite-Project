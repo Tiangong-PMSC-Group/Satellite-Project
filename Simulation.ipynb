{
 "cells": [
  {
   "cell_type": "markdown",
   "metadata": {},
   "source": [
    "### This file carries out orthogonal projection from a Cartesian point in space to an ellipsoid Earth.\n",
    "\n",
    "Equatorial Radius $r_{e} =  6,378,136.6 $ $ (m)$\n",
    "\n",
    "Polar Radius $r_{p} =   6,356,751.9 $ $ (m)$\n",
    "\n",
    "Mathematical Expression of Earth in Cartesian coordinates:\n",
    "\n",
    "$$ \\frac{x^2}{{r_e}^2} + \\frac{y^2}{{r_p}^2} + \\frac{z^2}{{r_e}^2} = 1 $$"
   ]
  },
  {
   "cell_type": "code",
   "execution_count": 2,
   "metadata": {},
   "outputs": [
    {
     "ename": "ModuleNotFoundError",
     "evalue": "No module named 'SatelliteState'",
     "output_type": "error",
     "traceback": [
      "\u001b[1;31m---------------------------------------------------------------------------\u001b[0m",
      "\u001b[1;31mModuleNotFoundError\u001b[0m                       Traceback (most recent call last)",
      "Cell \u001b[1;32mIn[2], line 8\u001b[0m\n\u001b[0;32m      6\u001b[0m \u001b[38;5;28;01mimport\u001b[39;00m \u001b[38;5;21;01mutilities\u001b[39;00m\n\u001b[0;32m      7\u001b[0m \u001b[38;5;28;01mfrom\u001b[39;00m \u001b[38;5;21;01mEarth\u001b[39;00m \u001b[38;5;28;01mimport\u001b[39;00m Earth\n\u001b[1;32m----> 8\u001b[0m \u001b[38;5;28;01mfrom\u001b[39;00m \u001b[38;5;21;01mISimulator\u001b[39;00m \u001b[38;5;28;01mimport\u001b[39;00m ISimulator, FakeSimulator, RealSimulator\n\u001b[0;32m      9\u001b[0m \u001b[38;5;28;01mfrom\u001b[39;00m \u001b[38;5;21;01mRadarSystem\u001b[39;00m \u001b[38;5;28;01mimport\u001b[39;00m RadarSystem\n\u001b[0;32m     10\u001b[0m \u001b[38;5;28;01mfrom\u001b[39;00m \u001b[38;5;21;01mTwoD\u001b[39;00m\u001b[38;5;21;01m.\u001b[39;00m\u001b[38;5;21;01mTwoDRadarSystem\u001b[39;00m \u001b[38;5;28;01mimport\u001b[39;00m TwoDRadarSystem\n",
      "File \u001b[1;32md:\\Users\\andre\\OneDrive\\Documentos\\Warwick\\Group Project\\Satellite-Project\\ISimulator.py:11\u001b[0m\n\u001b[0;32m      9\u001b[0m \u001b[38;5;28;01mfrom\u001b[39;00m \u001b[38;5;21;01mabc\u001b[39;00m \u001b[38;5;28;01mimport\u001b[39;00m abstractmethod, ABCMeta\n\u001b[0;32m     10\u001b[0m \u001b[38;5;28;01mimport\u001b[39;00m \u001b[38;5;21;01mpickle\u001b[39;00m\n\u001b[1;32m---> 11\u001b[0m \u001b[38;5;28;01mfrom\u001b[39;00m \u001b[38;5;21;01mSatelliteState\u001b[39;00m \u001b[38;5;28;01mimport\u001b[39;00m SatelliteState\n\u001b[0;32m     12\u001b[0m \u001b[38;5;28;01mfrom\u001b[39;00m \u001b[38;5;21;01mconfig\u001b[39;00m \u001b[38;5;28;01mimport\u001b[39;00m config\n\u001b[0;32m     14\u001b[0m \u001b[38;5;28;01mclass\u001b[39;00m \u001b[38;5;21;01mISimulator\u001b[39;00m(metaclass\u001b[38;5;241m=\u001b[39mABCMeta):\n",
      "\u001b[1;31mModuleNotFoundError\u001b[0m: No module named 'SatelliteState'"
     ]
    }
   ],
   "source": [
    "import numpy as np\n",
    "import utilities as ut\n",
    "import math\n",
    "import numpy as np\n",
    "from matplotlib import pyplot as plt\n",
    "import utilities\n",
    "from Earth import Earth\n",
    "from ISimulator import ISimulator, FakeSimulator, RealSimulator\n",
    "from RadarSystem import RadarSystem\n",
    "from TwoD.TwoDRadarSystem import TwoDRadarSystem\n",
    "from config import config\n",
    "from TwoD.TwoDSimulator import TwoDSimulator\n",
    "\n",
    "\n",
    "\n",
    "class Simulation():\n",
    "    def __init__(self, satellite, planet, radars,\n",
    "                 dt = 0.1, maxIterations = 1000000):\n",
    "        \n",
    "        #Satellite, Planet and Radars are objects\n",
    "        self.sat = satellite\n",
    "        self.Earth = planet\n",
    "        self.radars = radars\n",
    "\n",
    "        self.dt = dt\n",
    "        self.maxIter = maxIterations\n",
    "        self.Crashed_Flag = False\n",
    "        #We use intger time.\n",
    "        self.t = 0\n",
    "        \n",
    "        #These are the logging variables used for CSV (or any other) file gen.\n",
    "        self.Satellite_True_Traj = []\n",
    "        self.Satellite_Kalman_Traj = []\n",
    "        self.Satellite_Kalman_Cov = []\n",
    "        self.init_config()\n",
    "        ''' TODO:\n",
    "        This is where the config file would be read and its contents loaded into respective variables.\n",
    "        '''\n",
    "      \n",
    "\n",
    "    def init_config(self):\n",
    "        \"\"\"\n",
    "    Initializes the system configuration based on specified parameters.\n",
    "    This method sets up the radar system and simulator based on the\n",
    "    configuration flags is2D and real_simulator.\n",
    "    \n",
    "    Attributes:\n",
    "        is2D (bool): If True, the system will use a two-dimensional\n",
    "                     radar system and simulator. If False, it will use\n",
    "                     a three-dimensional system.\n",
    "        real_simulator (bool): If True, use the RealSimulator for\n",
    "                               realistic simulations. If False, read existed data from file.\n",
    "\n",
    "    \n",
    "    This setup allows for easy swapping of system behavior by simply\n",
    "    changing configuration flags, adhering to the Adapter Design Pattern.\n",
    "    The rest of the program interacts with the radar system and simulator\n",
    "    through interfaces, ensuring that changes in system configuration do not\n",
    "    require changes elsewhere in the program.\n",
    "    \"\"\"\n",
    "        is2D = True\n",
    "        real_simulator = True\n",
    "        if is2D:\n",
    "            self.simulator = TwoDSimulator()\n",
    "            self.radarSystem = TwoDRadarSystem(1, Earth())\n",
    "        else:\n",
    "            self.radarSystem = RadarSystem(1, Earth())\n",
    "            if real_simulator:\n",
    "                self.simulator = FakeSimulator()\n",
    "            else:\n",
    "                self.simulator = RealSimulator()\n",
    "\n",
    "\n",
    "    def Fall(self):\n",
    "        '''\n",
    "        1. Declare intial conditions. -- DONE IN __init__()\n",
    "        2. Enter the while loop until Crashed \n",
    "        3. Update the radar positons\n",
    "        4. Update the TRUE satellite position through dynamics\n",
    "        5. Radars LOS check\n",
    "            5a. check for LOS for each, \n",
    "            5b. IF data update LKF update\n",
    "            5c. Update Radar pings \n",
    "        6. Satellite LKF forecast  \n",
    "        7. Increment simulation\n",
    "        '''\n",
    "        \n",
    "        '''\n",
    "        For the third step, I think using interface is a good idea.When we want to debug radars all debug predictors, simulate trajectories every time will waste time.So we can have two implementations of the same Interface(ISimulator),One is called FakeSimulator, which return exsiting data from storage, another one is the real simulator which update dynamics at each time step .By using interface,we can switch these two mode very quickly\n",
    "        Following is an example\n",
    "        '''\n",
    "        \n",
    "        current_time = 0\n",
    "        while not self.Crashed_Flag:\n",
    "            current_time = current_time + 1\n",
    "            '''\n",
    "            4.Update the TRUE satellite position through dynamics\n",
    "            '''\n",
    "            satellite_state = self.simulator.simulate(current_time)\n",
    "            '''\n",
    "            3. Update the radar positons\n",
    "            5. Radars LOS check\n",
    "                5a. check for LOS for each, \n",
    "                5b. IF data update LKF update\n",
    "                5c. Update Radar pings \n",
    "            '''\n",
    "            # radar has different time interval from simulator, so radar only works at longer periodic step\n",
    "            if current_time % config['sim_config']['dt']['radar_los'] == 0:\n",
    "                self.radarSystem.update_radar_positions()\n",
    "                self.radarSystem.try_detect_satellite(satellite_state.pos, current_time)\n",
    " \n",
    "        \n",
    "        \n",
    "            \n",
    "        \n",
    "\n",
    "    def get_time(self):\n",
    "        return self.dt * self.t\n"
   ]
  },
  {
   "cell_type": "code",
   "execution_count": 7,
   "metadata": {},
   "outputs": [],
   "source": [
    "a = np.zeros(2)"
   ]
  },
  {
   "cell_type": "code",
   "execution_count": 10,
   "metadata": {},
   "outputs": [
    {
     "data": {
      "text/plain": [
       "2"
      ]
     },
     "execution_count": 10,
     "metadata": {},
     "output_type": "execute_result"
    }
   ],
   "source": [
    "len(a)"
   ]
  },
  {
   "cell_type": "code",
   "execution_count": null,
   "metadata": {},
   "outputs": [],
   "source": []
  }
 ],
 "metadata": {
  "kernelspec": {
   "display_name": "defaultEnv",
   "language": "python",
   "name": "python3"
  },
  "language_info": {
   "codemirror_mode": {
    "name": "ipython",
    "version": 3
   },
   "file_extension": ".py",
   "mimetype": "text/x-python",
   "name": "python",
   "nbconvert_exporter": "python",
   "pygments_lexer": "ipython3",
   "version": "3.11.5"
  }
 },
 "nbformat": 4,
 "nbformat_minor": 2
}
