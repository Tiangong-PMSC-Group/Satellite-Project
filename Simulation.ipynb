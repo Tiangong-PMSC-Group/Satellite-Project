{
 "cells": [
  {
   "cell_type": "markdown",
   "metadata": {},
   "source": [
    "### This file carries out orthogonal projection from a Cartesian point in space to an ellipsoid Earth.\n",
    "\n",
    "Equatorial Radius $r_{e} =  6,378,136.6 $ $ (m)$\n",
    "\n",
    "Polar Radius $r_{p} =   6,356,751.9 $ $ (m)$\n",
    "\n",
    "Mathematical Expression of Earth in Cartesian coordinates:\n",
    "\n",
    "$$ \\frac{x^2}{{r_e}^2} + \\frac{y^2}{{r_p}^2} + \\frac{z^2}{{r_e}^2} = 1 $$"
   ]
  },
  {
   "cell_type": "code",
   "execution_count": null,
   "metadata": {},
   "outputs": [],
   "source": [
    "import numpy as np\n",
    "import utilities as ut\n",
    "\n",
    "class Simulation():\n",
    "    def __init__(self, satellite, planet, radars,\n",
    "                 dt = 0.1, maxIterations = 1000000):\n",
    "        \n",
    "        #Satellite, Planet and Radars are objects\n",
    "        self.sat = satellite\n",
    "        self.Earth = planet\n",
    "        self.radars = radars\n",
    "\n",
    "        self.dt = dt\n",
    "        self.maxIter = maxIterations\n",
    "        self.Crashed_Flag = False\n",
    "        #We use intger time.\n",
    "        self.t = 0\n",
    "        \n",
    "        #These are the logging variables used for CSV (or any other) file gen.\n",
    "        self.Satellite_True_Traj = []\n",
    "        self.Satellite_Kalman_Traj = []\n",
    "        self.Satellite_Kalman_Cov = []\n",
    "\n",
    "        ''' TODO:\n",
    "        This is where the config file would be read and its contents loaded into respective variables.\n",
    "        '''\n",
    "\n",
    "    def Fall(self):\n",
    "        '''\n",
    "        1. Declare intial conditions. -- DONE IN __init__()\n",
    "        2. Enter the while loop until Crashed \n",
    "        3. Update the radar positons\n",
    "        4. Update the TRUE satellite position through dynamics\n",
    "        5. Radars LOS check\n",
    "            5a. check for LOS for each, \n",
    "            5b. IF data update LKF update\n",
    "            5c. Update Radar pings \n",
    "        6. Satellite LKF forecast  \n",
    "        7. Increment simulation\n",
    "        '''\n",
    "\n",
    "        while not self.Crashed_Flag:\n",
    "            \n",
    "        \n",
    "\n",
    "    def get_time(self):\n",
    "        return self.dt * self.t\n"
   ]
  }
 ],
 "metadata": {
  "language_info": {
   "name": "python"
  }
 },
 "nbformat": 4,
 "nbformat_minor": 2
}
