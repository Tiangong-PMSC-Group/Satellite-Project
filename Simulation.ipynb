{
 "cells": [
  {
   "cell_type": "markdown",
   "metadata": {},
   "source": [
    "### This file carries out orthogonal projection from a Cartesian point in space to an ellipsoid Earth.\n",
    "\n",
    "Equatorial Radius $r_{e} =  6,378,136.6 $ $ (m)$\n",
    "\n",
    "Polar Radius $r_{p} =   6,356,751.9 $ $ (m)$\n",
    "\n",
    "Mathematical Expression of Earth in Cartesian coordinates:\n",
    "\n",
    "$$ \\frac{x^2}{{r_e}^2} + \\frac{y^2}{{r_p}^2} + \\frac{z^2}{{r_e}^2} = 1 $$"
   ]
  },
  {
   "cell_type": "code",
   "execution_count": 1,
   "metadata": {},
   "outputs": [
    {
     "ename": "IndentationError",
     "evalue": "expected an indented block after 'while' statement on line 59 (97725480.py, line 63)",
     "output_type": "error",
     "traceback": [
      "\u001b[1;36m  Cell \u001b[1;32mIn[1], line 63\u001b[1;36m\u001b[0m\n\u001b[1;33m    def get_time(self):\u001b[0m\n\u001b[1;37m    ^\u001b[0m\n\u001b[1;31mIndentationError\u001b[0m\u001b[1;31m:\u001b[0m expected an indented block after 'while' statement on line 59\n"
     ]
    }
   ],
   "source": [
    "import numpy as np\n",
    "import utilities as ut\n",
    "\n",
    "\n",
    "    \n",
    "\n",
    "class Simulation():\n",
    "    def __init__(self, satellite, planet, radars,\n",
    "                 dt = 0.1, maxIterations = 1000000):\n",
    "        \n",
    "        #Satellite, Planet and Radars are objects\n",
    "        self.sat = satellite\n",
    "        self.Earth = planet\n",
    "        self.radars = radars\n",
    "\n",
    "        self.dt = dt\n",
    "        self.maxIter = maxIterations\n",
    "        self.Crashed_Flag = False\n",
    "        #We use intger time.\n",
    "        self.t = 0\n",
    "        \n",
    "        #These are the logging variables used for CSV (or any other) file gen.\n",
    "        self.Satellite_True_Traj = []\n",
    "        self.Satellite_Kalman_Traj = []\n",
    "        self.Satellite_Kalman_Cov = []\n",
    "\n",
    "        ''' TODO:\n",
    "        This is where the config file would be read and its contents loaded into respective variables.\n",
    "        '''\n",
    "\n",
    "\n",
    "    def Fall(self):\n",
    "        '''\n",
    "        1. Declare intial conditions. -- DONE IN __init__()\n",
    "        2. Enter the while loop until Crashed \n",
    "        3. Update the radar positons\n",
    "        4. Update the TRUE satellite position through dynamics\n",
    "        5. Radars LOS check\n",
    "            5a. check for LOS for each, \n",
    "            5b. IF data update LKF update\n",
    "            5c. Update Radar pings \n",
    "        6. Satellite LKF forecast  \n",
    "        7. Increment simulation\n",
    "        '''\n",
    "        \n",
    "        '''\n",
    "        For the third step, I think using interface is a good idea.When we want to debug radars all debug predictors, simulate trajectories every time will waste time.So we can have two implementations of the same Interface(ISimulator),One is called FakeSimulator, which return exsiting data from storage, another one is the real simulator which update dynamics at each time step .By using interface,we can switch these two mode very quickly\n",
    "        Following is an example\n",
    "        '''\n",
    "        simulator = Isimulator()\n",
    "        real_simulator = True\n",
    "        if(real_simulator):\n",
    "            simulator = FakeSimulator()\n",
    "        else:\n",
    "            simulator = RealSimulator()\n",
    "        pos = simulator.simulate()\n",
    "        self.Satellite_True_Traj.extend(pos)\n",
    "        \n",
    "        while not self.Crashed_Flag:\n",
    "            pass\n",
    "            \n",
    "        \n",
    "\n",
    "    def get_time(self):\n",
    "        return self.dt * self.t\n"
   ]
  }
 ],
 "metadata": {
  "kernelspec": {
   "display_name": "defaultEnv",
   "language": "python",
   "name": "python3"
  },
  "language_info": {
   "codemirror_mode": {
    "name": "ipython",
    "version": 3
   },
   "file_extension": ".py",
   "mimetype": "text/x-python",
   "name": "python",
   "nbconvert_exporter": "python",
   "pygments_lexer": "ipython3",
   "version": "3.11.5"
  }
 },
 "nbformat": 4,
 "nbformat_minor": 2
}
