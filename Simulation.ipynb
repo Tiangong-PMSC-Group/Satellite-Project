{
 "cells": [
  {
   "cell_type": "markdown",
   "metadata": {},
   "source": [
    "### This file carries out orthogonal projection from a Cartesian point in space to an ellipsoid Earth.\n",
    "\n",
    "Equatorial Radius $r_{e} =  6,378,136.6 $ $ (m)$\n",
    "\n",
    "Polar Radius $r_{p} =   6,356,751.9 $ $ (m)$\n",
    "\n",
    "Mathematical Expression of Earth in Cartesian coordinates:\n",
    "\n",
    "$$ \\frac{x^2}{{r_e}^2} + \\frac{y^2}{{r_p}^2} + \\frac{z^2}{{r_e}^2} = 1 $$"
   ]
  },
  {
   "cell_type": "code",
   "execution_count": null,
   "metadata": {},
   "outputs": [],
   "source": [
    "import numpy as np\n",
    "import utilities as ut\n",
    "import json\n",
    "\n",
    "def load_config(file_path):\n",
    "    with open(file_path, 'r') as file:\n",
    "        return json.load(file)\n",
    "    \n",
    "config = load_config('config.json')\n",
    "\n",
    "class Simulation():\n",
    "    def __init__(self, satellite, planet, radars,\n",
    "                 dt = 0.1, maxIterations = 1000000):\n",
    "        \n",
    "        #Satellite, Planet and Radars are objects\n",
    "        \n",
    "        # andre: Instantiate inside Simulation object or outside? \n",
    "        self.sat = satellite\n",
    "        self.Earth = planet\n",
    "        self.radars = radars\n",
    "\n",
    "        self.dt = dt\n",
    "        self.maxIter = maxIterations\n",
    "        self.t = 0\n",
    "\n",
    "        '''\n",
    "        This is where the config file would be read and its contents loaded into respective variables.\n",
    "        '''\n",
    "\n",
    "    def fall(self):\n",
    "        '''\n",
    "        1. Declare intial conditions. -- DONE IN __init__()\n",
    "        2. Enter the while loop until Crashed \n",
    "        3. Update the radar positons\n",
    "        4. Update the TRUE satellite position through dynamics\n",
    "        5. Radars LOS check\n",
    "            5a. check for LOS for each, \n",
    "            5b. IF data update LKF update\n",
    "            5c. Update Radar pings \n",
    "        6. Satellite LKF forecast  \n",
    "        7. Increment simulation\n",
    "        '''\n",
    "    \n",
    "\n",
    "\n"
   ]
  },
  {
   "cell_type": "code",
   "execution_count": null,
   "metadata": {},
   "outputs": [],
   "source": []
  }
 ],
 "metadata": {
  "kernelspec": {
   "display_name": "defaultEnv",
   "language": "python",
   "name": "python3"
  },
  "language_info": {
   "codemirror_mode": {
    "name": "ipython",
    "version": 3
   },
   "file_extension": ".py",
   "mimetype": "text/x-python",
   "nbconvert_exporter": "python",
   "pygments_lexer": "ipython3",
   "version": "3.11.5"
  }
 },
 "nbformat": 4,
 "nbformat_minor": 2
}
