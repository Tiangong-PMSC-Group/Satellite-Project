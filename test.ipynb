{
 "cells": [
  {
   "cell_type": "code",
   "execution_count": 8,
   "metadata": {},
   "outputs": [
    {
     "name": "stdout",
     "output_type": "stream",
     "text": [
      "[6878136.6] [3.14159265]\n"
     ]
    },
    {
     "ename": "ValueError",
     "evalue": "not enough values to unpack (expected 2, got 1)",
     "output_type": "error",
     "traceback": [
      "\u001b[1;31m---------------------------------------------------------------------------\u001b[0m",
      "\u001b[1;31mValueError\u001b[0m                                Traceback (most recent call last)",
      "Cell \u001b[1;32mIn[8], line 12\u001b[0m\n\u001b[0;32m      9\u001b[0m x \u001b[38;5;241m=\u001b[39m dummy_sat_pos[\u001b[38;5;241m1\u001b[39m]\n\u001b[0;32m     10\u001b[0m \u001b[38;5;28mprint\u001b[39m(y, x)\n\u001b[1;32m---> 12\u001b[0m res \u001b[38;5;241m=\u001b[39m \u001b[43mE\u001b[49m\u001b[38;5;241;43m.\u001b[39;49m\u001b[43mdistane_to_surface\u001b[49m\u001b[43m(\u001b[49m\u001b[43mdummy_sat_pos\u001b[49m\u001b[43m)\u001b[49m\n",
      "File \u001b[1;32mc:\\Users\\zhikh\\Documents\\GitHub\\Satellite-Project\\Earth.py:41\u001b[0m, in \u001b[0;36mEarth.distane_to_surface\u001b[1;34m(self, state, tolerance, max_iterations)\u001b[0m\n\u001b[0;32m     39\u001b[0m x \u001b[38;5;241m=\u001b[39m np\u001b[38;5;241m.\u001b[39masarray(state)\n\u001b[0;32m     40\u001b[0m relevant_state \u001b[38;5;241m=\u001b[39m np\u001b[38;5;241m.\u001b[39marray([[x[\u001b[38;5;241m0\u001b[39m]], [x[\u001b[38;5;241m1\u001b[39m]]])\n\u001b[1;32m---> 41\u001b[0m x2 \u001b[38;5;241m=\u001b[39m \u001b[43mut\u001b[49m\u001b[38;5;241;43m.\u001b[39;49m\u001b[43mp_to_c\u001b[49m\u001b[43m(\u001b[49m\u001b[43mrelevant_state\u001b[49m\u001b[43m)\u001b[49m\n\u001b[0;32m     43\u001b[0m t \u001b[38;5;241m=\u001b[39m math\u001b[38;5;241m.\u001b[39matan2(x2[\u001b[38;5;241m1\u001b[39m], x2[\u001b[38;5;241m0\u001b[39m])\n\u001b[0;32m     45\u001b[0m a \u001b[38;5;241m=\u001b[39m \u001b[38;5;28mself\u001b[39m\u001b[38;5;241m.\u001b[39mre\n",
      "File \u001b[1;32mc:\\Users\\zhikh\\Documents\\GitHub\\Satellite-Project\\utilities.py:42\u001b[0m, in \u001b[0;36mp_to_c\u001b[1;34m(state)\u001b[0m\n\u001b[0;32m     39\u001b[0m     cartesian_state \u001b[38;5;241m=\u001b[39m np\u001b[38;5;241m.\u001b[39marray([[x], [y], [z]])\n\u001b[0;32m     41\u001b[0m \u001b[38;5;28;01melif\u001b[39;00m dims \u001b[38;5;241m==\u001b[39m \u001b[38;5;241m2\u001b[39m:\n\u001b[1;32m---> 42\u001b[0m     rho \u001b[38;5;241m=\u001b[39m state[\u001b[38;5;241m0\u001b[39m], theta \u001b[38;5;241m=\u001b[39m state[\u001b[38;5;241m1\u001b[39m]\n\u001b[0;32m     43\u001b[0m     x \u001b[38;5;241m=\u001b[39m rho \u001b[38;5;241m*\u001b[39m math\u001b[38;5;241m.\u001b[39mcos(theta)\n\u001b[0;32m     44\u001b[0m     y \u001b[38;5;241m=\u001b[39m rho \u001b[38;5;241m*\u001b[39m math\u001b[38;5;241m.\u001b[39msin(theta)\n",
      "\u001b[1;31mValueError\u001b[0m: not enough values to unpack (expected 2, got 1)"
     ]
    }
   ],
   "source": [
    "import utilities as ut\n",
    "from Earth import Earth\n",
    "import numpy as np\n",
    "\n",
    "E = Earth()\n",
    "\n",
    "dummy_sat_pos = np.array([[E.re + 500000], [np.pi], [np.pi]])\n",
    "y = dummy_sat_pos[0]\n",
    "x = dummy_sat_pos[1]\n",
    "print(y, x)\n",
    "\n",
    "res = E.distane_to_surface(dummy_sat_pos)\n",
    "\n"
   ]
  }
 ],
 "metadata": {
  "kernelspec": {
   "display_name": "Python 3",
   "language": "python",
   "name": "python3"
  },
  "language_info": {
   "codemirror_mode": {
    "name": "ipython",
    "version": 3
   },
   "file_extension": ".py",
   "mimetype": "text/x-python",
   "name": "python",
   "nbconvert_exporter": "python",
   "pygments_lexer": "ipython3",
   "version": "3.10.4"
  }
 },
 "nbformat": 4,
 "nbformat_minor": 2
}
