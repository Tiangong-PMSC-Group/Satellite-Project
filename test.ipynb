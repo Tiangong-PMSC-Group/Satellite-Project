{
 "cells": [
  {
   "cell_type": "code",
   "execution_count": null,
   "metadata": {},
   "outputs": [],
   "source": [
    "import utilities as ut\n",
    "from Earth import Earth\n",
    "import numpy as np\n",
    "\n",
    "E = Earth()\n",
    "\n",
    "dummy_sat_pos = np.array([[E.re + 500000], [np.pi], [np.pi]])\n",
    "y = dummy_sat_pos[0]\n",
    "x = dummy_sat_pos[1]\n",
    "print(y, x)\n",
    "\n",
    "res = E.distane_to_surface(dummy_sat_pos)\n",
    "\n"
   ]
  },
  {
   "cell_type": "code",
   "execution_count": 1,
   "metadata": {},
   "outputs": [
    {
     "name": "stdout",
     "output_type": "stream",
     "text": [
      "1.2105623305293947\n"
     ]
    }
   ],
   "source": [
    "%load_ext autoreload\n",
    "%autoreload 1\n",
    "\n",
    "from Satellite import Satellite\n",
    "from SatelliteState import SatelliteState\n",
    "import numpy as np\n",
    "from Filter import LinearKalmanFilter\n",
    "from Earth import Earth\n",
    "\n",
    "true_state0 = SatelliteState(np.array([1,1,1]), np.zeros(1), np.array([0.1,0.1,0.1]), np.array([0,0,0]))\n",
    "prior_cov = np.array([[1,0,0], [0,1,0], [0,0,1]])\n",
    "prior_state = SatelliteState(np.array([0.9,1.1,1]), prior_cov, np.array([0.1,0.1,0.1]), np.array([0,0,0]))\n",
    "\n",
    "\n",
    "earth = Earth()\n",
    "print(earth.air_density(100))\n",
    "\n",
    "sat1 = Satellite(true_state0, prior_state, LinearKalmanFilter, earth)\n",
    "\n"
   ]
  },
  {
   "cell_type": "code",
   "execution_count": 38,
   "metadata": {},
   "outputs": [
    {
     "name": "stdout",
     "output_type": "stream",
     "text": [
      "The autoreload extension is already loaded. To reload it, use:\n",
      "  %reload_ext autoreload\n",
      "6356751.058525609\n"
     ]
    },
    {
     "ename": "UFuncTypeError",
     "evalue": "Cannot cast ufunc 'add' output from dtype('float64') to dtype('int32') with casting rule 'same_kind'",
     "output_type": "error",
     "traceback": [
      "\u001b[1;31m---------------------------------------------------------------------------\u001b[0m",
      "\u001b[1;31mUFuncTypeError\u001b[0m                            Traceback (most recent call last)",
      "Cell \u001b[1;32mIn[38], line 5\u001b[0m\n\u001b[0;32m      2\u001b[0m get_ipython()\u001b[38;5;241m.\u001b[39mrun_line_magic(\u001b[38;5;124m'\u001b[39m\u001b[38;5;124mautoreload\u001b[39m\u001b[38;5;124m'\u001b[39m, \u001b[38;5;124m'\u001b[39m\u001b[38;5;124m2\u001b[39m\u001b[38;5;124m'\u001b[39m)\n\u001b[0;32m      4\u001b[0m sat1\u001b[38;5;241m.\u001b[39mearth\u001b[38;5;241m.\u001b[39mair_density(\u001b[38;5;241m100\u001b[39m)\n\u001b[1;32m----> 5\u001b[0m sat1\u001b[38;5;241m.\u001b[39mupdate_true_state()\n",
      "File \u001b[1;32md:\\Users\\andre\\OneDrive\\Documentos\\Warwick\\Group Project\\Satellite-Project\\Satellite.py:44\u001b[0m, in \u001b[0;36mSatellite.update_true_state\u001b[1;34m(self)\u001b[0m\n\u001b[0;32m     42\u001b[0m \u001b[38;5;28mprint\u001b[39m(distance)\n\u001b[0;32m     43\u001b[0m air \u001b[38;5;241m=\u001b[39m \u001b[38;5;28mself\u001b[39m\u001b[38;5;241m.\u001b[39mearth\u001b[38;5;241m.\u001b[39mair_density(distance)\n\u001b[1;32m---> 44\u001b[0m \u001b[38;5;28mself\u001b[39m\u001b[38;5;241m.\u001b[39mtrue_state\u001b[38;5;241m.\u001b[39mpos \u001b[38;5;241m+\u001b[39m\u001b[38;5;241m=\u001b[39m \u001b[38;5;28mself\u001b[39m\u001b[38;5;241m.\u001b[39mtrue_state\u001b[38;5;241m.\u001b[39mvelocity \u001b[38;5;241m*\u001b[39m \u001b[38;5;28mself\u001b[39m\u001b[38;5;241m.\u001b[39mdt \u001b[38;5;241m-\u001b[39m air \u001b[38;5;241m*\u001b[39m \u001b[38;5;28mself\u001b[39m\u001b[38;5;241m.\u001b[39mdt \u001b[38;5;66;03m# Dummy function\u001b[39;00m\n\u001b[0;32m     45\u001b[0m \u001b[38;5;28mself\u001b[39m\u001b[38;5;241m.\u001b[39mtrue_state\u001b[38;5;241m.\u001b[39mvelocity \u001b[38;5;241m+\u001b[39m\u001b[38;5;241m=\u001b[39m \u001b[38;5;28mself\u001b[39m\u001b[38;5;241m.\u001b[39mtrue_state\u001b[38;5;241m.\u001b[39macceleration  \u001b[38;5;241m*\u001b[39m \u001b[38;5;28mself\u001b[39m\u001b[38;5;241m.\u001b[39mdt\n\u001b[0;32m     46\u001b[0m \u001b[38;5;28mself\u001b[39m\u001b[38;5;241m.\u001b[39mrecorded_states\u001b[38;5;241m.\u001b[39mappend(\u001b[38;5;28mself\u001b[39m\u001b[38;5;241m.\u001b[39mtrue_state)\n",
      "\u001b[1;31mUFuncTypeError\u001b[0m: Cannot cast ufunc 'add' output from dtype('float64') to dtype('int32') with casting rule 'same_kind'"
     ]
    }
   ],
   "source": [
    "%load_ext autoreload\n",
    "%autoreload 2\n",
    "\n",
    "sat1.earth.air_density(100)\n",
    "sat1.update_true_state()"
   ]
  },
  {
   "cell_type": "code",
   "execution_count": null,
   "metadata": {},
   "outputs": [],
   "source": []
  },
  {
   "cell_type": "code",
   "execution_count": null,
   "metadata": {},
   "outputs": [],
   "source": []
  }
 ],
 "metadata": {
  "kernelspec": {
   "display_name": "Python 3",
   "language": "python",
   "name": "python3"
  },
  "language_info": {
   "codemirror_mode": {
    "name": "ipython",
    "version": 3
   },
   "file_extension": ".py",
   "mimetype": "text/x-python",
   "name": "python",
   "nbconvert_exporter": "python",
   "pygments_lexer": "ipython3",
   "version": "3.11.5"
  }
 },
 "nbformat": 4,
 "nbformat_minor": 2
}
