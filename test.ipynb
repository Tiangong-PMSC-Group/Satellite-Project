{
 "cells": [
  {
   "cell_type": "code",
   "execution_count": null,
   "metadata": {},
   "outputs": [],
   "source": [
    "import utilities as ut\n",
    "from Earth import Earth\n",
    "import numpy as np\n",
    "\n",
    "E = Earth()\n",
    "\n",
    "dummy_sat_pos = np.array([[E.re + 500000], [np.pi], [np.pi]])\n",
    "y = dummy_sat_pos[0]\n",
    "x = dummy_sat_pos[1]\n",
    "print(y, x)\n",
    "\n",
    "res = E.distane_to_surface(dummy_sat_pos)\n",
    "\n"
   ]
  },
  {
   "cell_type": "code",
   "execution_count": 1,
   "metadata": {},
   "outputs": [
    {
     "name": "stdout",
     "output_type": "stream",
     "text": [
      "1.2105623305293947\n"
     ]
    }
   ],
   "source": [
    "%load_ext autoreload\n",
    "%autoreload 2\n",
    "\n",
    "from Satellite import Satellite\n",
    "from SatelliteState import SatelliteState\n",
    "import numpy as np\n",
    "from Filter import LinearKalmanFilter\n",
    "from Earth import Earth\n",
    "\n",
    "true_state0 = SatelliteState(np.array([2,1,1]), np.zeros(1), np.array([0.1,0.1,0.1]), np.array([0,0,0]))\n",
    "prior_cov = np.array([[1,0,0], [0,1,0], [0,0,1]])\n",
    "prior_state = SatelliteState(np.array([0.9,1.1,1]), prior_cov, np.array([0.1,0.1,0.1]), np.array([0,0,0]))\n",
    "\n",
    "\n",
    "earth = Earth()\n",
    "print(earth.air_density(100))\n",
    "\n",
    "sat1 = Satellite(true_state0, prior_state, LinearKalmanFilter, earth)\n",
    "\n"
   ]
  },
  {
   "cell_type": "code",
   "execution_count": 2,
   "metadata": {},
   "outputs": [
    {
     "data": {
      "text/plain": [
       "SatelliteState(pos=array([2, 1, 1]), cov=array([0.]), velocity=array([0.1, 0.1, 0.1]), acceleration=array([0, 0, 0]))"
      ]
     },
     "execution_count": 2,
     "metadata": {},
     "output_type": "execute_result"
    }
   ],
   "source": [
    "sat1.true_state"
   ]
  },
  {
   "cell_type": "code",
   "execution_count": 3,
   "metadata": {},
   "outputs": [
    {
     "name": "stdout",
     "output_type": "stream",
     "text": [
      "The autoreload extension is already loaded. To reload it, use:\n",
      "  %reload_ext autoreload\n"
     ]
    }
   ],
   "source": [
    "%load_ext autoreload\n",
    "%autoreload 2\n",
    "\n",
    "sat1.earth.air_density(100)\n",
    "sat1.update_true_state()"
   ]
  },
  {
   "cell_type": "code",
   "execution_count": 4,
   "metadata": {},
   "outputs": [
    {
     "data": {
      "text/plain": [
       "SatelliteState(pos=array([2.1, 1.1, 1.1]), cov=array([0.]), velocity=array([0.1, 0.1, 0.1]), acceleration=array([0, 0, 0]))"
      ]
     },
     "execution_count": 4,
     "metadata": {},
     "output_type": "execute_result"
    }
   ],
   "source": [
    "sat1.true_state"
   ]
  },
  {
   "cell_type": "code",
   "execution_count": 5,
   "metadata": {},
   "outputs": [
    {
     "data": {
      "text/plain": [
       "[SatelliteState(pos=array([2, 1, 1]), cov=array([0.]), velocity=array([0.1, 0.1, 0.1]), acceleration=array([0, 0, 0])),\n",
       " SatelliteState(pos=array([2.1, 1.1, 1.1]), cov=array([0.]), velocity=array([0.1, 0.1, 0.1]), acceleration=array([0, 0, 0]))]"
      ]
     },
     "execution_count": 5,
     "metadata": {},
     "output_type": "execute_result"
    }
   ],
   "source": [
    "sat1.recorded_true_states"
   ]
  },
  {
   "cell_type": "code",
   "execution_count": 6,
   "metadata": {},
   "outputs": [
    {
     "data": {
      "text/plain": [
       "SatelliteState(pos=array([0.9, 1.1, 1. ]), cov=array([[1, 0, 0],\n",
       "       [0, 1, 0],\n",
       "       [0, 0, 1]]), velocity=array([0.1, 0.1, 0.1]), acceleration=array([0, 0, 0]))"
      ]
     },
     "execution_count": 6,
     "metadata": {},
     "output_type": "execute_result"
    }
   ],
   "source": [
    "sat1.estimated_state"
   ]
  },
  {
   "cell_type": "code",
   "execution_count": 7,
   "metadata": {},
   "outputs": [
    {
     "data": {
      "text/plain": [
       "array([0.9, 1.1, 1. , 0.1, 0.1, 0.1, 0. , 0. , 0. ])"
      ]
     },
     "execution_count": 7,
     "metadata": {},
     "output_type": "execute_result"
    }
   ],
   "source": [
    "sat1.estimated_state.get_state()"
   ]
  },
  {
   "cell_type": "code",
   "execution_count": 8,
   "metadata": {},
   "outputs": [
    {
     "data": {
      "text/plain": [
       "array([0.9, 1.1, 1. , 0.1, 0.1, 0.1, 0. , 0. , 0. ])"
      ]
     },
     "execution_count": 8,
     "metadata": {},
     "output_type": "execute_result"
    }
   ],
   "source": [
    "sat1.filter.m"
   ]
  },
  {
   "cell_type": "code",
   "execution_count": 9,
   "metadata": {},
   "outputs": [
    {
     "name": "stdout",
     "output_type": "stream",
     "text": [
      "[0.9 1.1 1.  0.1 0.1 0.1 0.  0.  0. ]\n",
      "[[1. 0. 0. 0. 0. 0. 0. 0. 0.]\n",
      " [0. 1. 0. 0. 0. 0. 0. 0. 0.]\n",
      " [0. 0. 1. 0. 0. 0. 0. 0. 0.]\n",
      " [0. 0. 0. 1. 0. 0. 0. 0. 0.]\n",
      " [0. 0. 0. 0. 1. 0. 0. 0. 0.]\n",
      " [0. 0. 0. 0. 0. 1. 0. 0. 0.]\n",
      " [0. 0. 0. 0. 0. 0. 1. 0. 0.]\n",
      " [0. 0. 0. 0. 0. 0. 0. 1. 0.]\n",
      " [0. 0. 0. 0. 0. 0. 0. 0. 1.]]\n"
     ]
    },
    {
     "ename": "ValueError",
     "evalue": "matmul: Input operand 1 has a mismatch in its core dimension 0, with gufunc signature (n?,k),(k,m?)->(n?,m?) (size 3 is different from 9)",
     "output_type": "error",
     "traceback": [
      "\u001b[1;31m---------------------------------------------------------------------------\u001b[0m",
      "\u001b[1;31mValueError\u001b[0m                                Traceback (most recent call last)",
      "Cell \u001b[1;32mIn[9], line 1\u001b[0m\n\u001b[1;32m----> 1\u001b[0m sat1\u001b[38;5;241m.\u001b[39mupdate_estimated_state()\n",
      "File \u001b[1;32md:\\Users\\andre\\OneDrive\\Documentos\\Warwick\\Group Project\\Satellite-Project\\Satellite.py:58\u001b[0m, in \u001b[0;36mSatellite.update_estimated_state\u001b[1;34m(self, measurement)\u001b[0m\n\u001b[0;32m     55\u001b[0m transition_matrix \u001b[38;5;241m=\u001b[39m np\u001b[38;5;241m.\u001b[39meye(\u001b[38;5;241m9\u001b[39m) \u001b[38;5;66;03m# Dummy function. Defines a new transition given the air\u001b[39;00m\n\u001b[0;32m     57\u001b[0m \u001b[38;5;28;01mif\u001b[39;00m measurement \u001b[38;5;129;01mis\u001b[39;00m \u001b[38;5;28;01mNone\u001b[39;00m:\n\u001b[1;32m---> 58\u001b[0m     m, c \u001b[38;5;241m=\u001b[39m \u001b[38;5;28mself\u001b[39m\u001b[38;5;241m.\u001b[39mfilter\u001b[38;5;241m.\u001b[39mforecast(transition_matrix)\n\u001b[0;32m     59\u001b[0m     \u001b[38;5;28mself\u001b[39m\u001b[38;5;241m.\u001b[39mestimated_state\u001b[38;5;241m.\u001b[39mupdate_state(m)\n\u001b[0;32m     60\u001b[0m     \u001b[38;5;28mself\u001b[39m\u001b[38;5;241m.\u001b[39mestimated_state\u001b[38;5;241m.\u001b[39mcov \u001b[38;5;241m=\u001b[39m c\n",
      "File \u001b[1;32md:\\Users\\andre\\OneDrive\\Documentos\\Warwick\\Group Project\\Satellite-Project\\Filter.py:95\u001b[0m, in \u001b[0;36mLinearKalmanFilter.forecast\u001b[1;34m(self, transition_matrix)\u001b[0m\n\u001b[0;32m     93\u001b[0m \u001b[38;5;28;01mdef\u001b[39;00m \u001b[38;5;21mforecast\u001b[39m(\u001b[38;5;28mself\u001b[39m, transition_matrix \u001b[38;5;241m=\u001b[39m \u001b[38;5;28;01mNone\u001b[39;00m):\n\u001b[0;32m     94\u001b[0m     \u001b[38;5;28mself\u001b[39m\u001b[38;5;241m.\u001b[39mm \u001b[38;5;241m=\u001b[39m \u001b[38;5;28mself\u001b[39m\u001b[38;5;241m.\u001b[39mforecast_mean(transition_matrix)\n\u001b[1;32m---> 95\u001b[0m     \u001b[38;5;28mself\u001b[39m\u001b[38;5;241m.\u001b[39mC \u001b[38;5;241m=\u001b[39m \u001b[38;5;28mself\u001b[39m\u001b[38;5;241m.\u001b[39mforecast_cov(transition_matrix)\n\u001b[0;32m     96\u001b[0m     \u001b[38;5;28;01mreturn\u001b[39;00m \u001b[38;5;28mself\u001b[39m\u001b[38;5;241m.\u001b[39mm, \u001b[38;5;28mself\u001b[39m\u001b[38;5;241m.\u001b[39mC\n",
      "File \u001b[1;32md:\\Users\\andre\\OneDrive\\Documentos\\Warwick\\Group Project\\Satellite-Project\\Filter.py:75\u001b[0m, in \u001b[0;36mLinearKalmanFilter.forecast_cov\u001b[1;34m(self, transition_matrix, process_noise)\u001b[0m\n\u001b[0;32m     73\u001b[0m \u001b[38;5;28;01mif\u001b[39;00m process_noise \u001b[38;5;129;01mis\u001b[39;00m \u001b[38;5;28;01mNone\u001b[39;00m:\n\u001b[0;32m     74\u001b[0m     process_noise \u001b[38;5;241m=\u001b[39m \u001b[38;5;28mself\u001b[39m\u001b[38;5;241m.\u001b[39mQ\n\u001b[1;32m---> 75\u001b[0m fore_cov \u001b[38;5;241m=\u001b[39m transition_matrix \u001b[38;5;241m@\u001b[39m (\u001b[38;5;28mself\u001b[39m\u001b[38;5;241m.\u001b[39mC) \u001b[38;5;241m@\u001b[39m transition_matrix\u001b[38;5;241m.\u001b[39mT \u001b[38;5;241m+\u001b[39m process_noise\n\u001b[0;32m     76\u001b[0m \u001b[38;5;28;01mreturn\u001b[39;00m fore_cov\n",
      "\u001b[1;31mValueError\u001b[0m: matmul: Input operand 1 has a mismatch in its core dimension 0, with gufunc signature (n?,k),(k,m?)->(n?,m?) (size 3 is different from 9)"
     ]
    }
   ],
   "source": [
    "sat1.update_estimated_state()"
   ]
  },
  {
   "cell_type": "markdown",
   "metadata": {},
   "source": []
  },
  {
   "cell_type": "code",
   "execution_count": null,
   "metadata": {},
   "outputs": [],
   "source": []
  },
  {
   "cell_type": "code",
   "execution_count": 120,
   "metadata": {},
   "outputs": [
    {
     "name": "stdout",
     "output_type": "stream",
     "text": [
      "The autoreload extension is already loaded. To reload it, use:\n",
      "  %reload_ext autoreload\n"
     ]
    }
   ],
   "source": [
    "%load_ext autoreload\n",
    "%autoreload 2\n",
    "import utilities\n",
    "from Earth import Earth\n",
    "import numpy as np\n",
    "\n",
    "\n",
    "earth = Earth()\n",
    "points = utilities.random_points_on_ellipse(earth, 1000)\n",
    "a = 20\n",
    "sigma = 1000000*np.eye(2)\n",
    "D = 100000000"
   ]
  },
  {
   "cell_type": "code",
   "execution_count": 121,
   "metadata": {},
   "outputs": [
    {
     "data": {
      "text/plain": [
       "2262522.986070712"
      ]
     },
     "execution_count": 121,
     "metadata": {},
     "output_type": "execute_result"
    }
   ],
   "source": [
    "utilities.distance_on_surface(points[5], points[18])"
   ]
  },
  {
   "cell_type": "code",
   "execution_count": 122,
   "metadata": {},
   "outputs": [],
   "source": [
    "test_point = points[0]\n",
    "\n",
    "density = 0\n",
    "\n",
    "for point in points:\n",
    "    d = utilities.distance_on_surface(test_point, point)\n",
    "    if d <= D:\n",
    "        pass\n",
    "        density += utilities.population_density(test_point, point,  a, sigma)"
   ]
  },
  {
   "cell_type": "code",
   "execution_count": 133,
   "metadata": {},
   "outputs": [],
   "source": [
    "# Create a grid\n",
    "n = 50\n",
    "x_values = np.linspace(test_point[1] - n, test_point[1] + n, 500)\n",
    "y_values = np.linspace(test_point[2] - n, test_point[2] + n, 500)\n",
    "points = [[x_values[i], y_values[i]] for i in range(len(x_values))]\n",
    "X, Y = np.meshgrid(x_values, y_values)\n",
    "Z = np.zeros((len(x_values), len(y_values)))"
   ]
  },
  {
   "cell_type": "code",
   "execution_count": 134,
   "metadata": {},
   "outputs": [],
   "source": [
    "for i in range(len(x_values)):\n",
    "    for j in range(len(y_values)):\n",
    "        point = [x_values[i], y_values[j]]\n",
    "        Z[j, i] = utilities.population_density(point, test_point, a, sigma)"
   ]
  },
  {
   "cell_type": "code",
   "execution_count": 135,
   "metadata": {},
   "outputs": [
    {
     "data": {
      "text/plain": [
       "-48.25869954049043"
      ]
     },
     "execution_count": 135,
     "metadata": {},
     "output_type": "execute_result"
    }
   ],
   "source": [
    "x_values.min()"
   ]
  },
  {
   "cell_type": "code",
   "execution_count": 136,
   "metadata": {},
   "outputs": [
    {
     "data": {
      "image/png": "[encoded data removed]",
      "text/plain": [
       "<Figure size 640x480 with 2 Axes>"
      ]
     },
     "metadata": {},
     "output_type": "display_data"
    }
   ],
   "source": [
    "import matplotlib.pyplot as plt\n",
    "plt.imshow(Z, extent=[x_values.min(), x_values.max(), y_values.min(), y_values.max()], origin='lower', cmap='hot', aspect='auto')\n",
    "plt.colorbar()  # Show color scale\n",
    "plt.title('Heatmap of Population Density')\n",
    "plt.xlabel('X coordinate')\n",
    "plt.ylabel('Y coordinate')\n",
    "plt.show()"
   ]
  },
  {
   "cell_type": "code",
   "execution_count": null,
   "metadata": {},
   "outputs": [],
   "source": []
  }
 ],
 "metadata": {
  "kernelspec": {
   "display_name": "Python 3",
   "language": "python",
   "name": "python3"
  },
  "language_info": {
   "codemirror_mode": {
    "name": "ipython",
    "version": 3
   },
   "file_extension": ".py",
   "mimetype": "text/x-python",
   "name": "python",
   "nbconvert_exporter": "python",
   "pygments_lexer": "ipython3",
   "version": "3.11.5"
  }
 },
 "nbformat": 4,
 "nbformat_minor": 2
}
