{
 "cells": [
  {
   "cell_type": "code",
   "id": "initial_id",
   "metadata": {
    "collapsed": true,
    "ExecuteTime": {
     "end_time": "2024-05-07T14:49:08.227581Z",
     "start_time": "2024-05-07T14:49:07.947175Z"
    }
   },
   "source": [
    "\n",
    "from Earth import Earth\n",
    "from IPython.core.display_functions import clear_output\n",
    "import numpy as np\n",
    "import matplotlib.pyplot as plt\n",
    "from mpl_toolkits.mplot3d import Axes3D\n",
    "from ipywidgets import interact, FloatSlider, Output, Button\n",
    "import time\n",
    "class Visualisation:\n",
    "    def __init__(self,x_positions,y_positions,z_positions):\n",
    "        self.x_positions = x_positions\n",
    "        self.y_positions = y_positions\n",
    "        self.z_positions = z_positions\n",
    "\n",
    "\n",
    "    re = Earth().re  \n",
    "    rp = Earth().rp\n",
    "    show_range = 5000000   \n",
    "    out = Output()\n",
    "    display(out)\n",
    "    \n",
    "    def update_view(self,elev=30, azim=30, progress=100):\n",
    "        with self.out:\n",
    "            clear_output(wait=True)\n",
    "            fig = plt.figure(figsize=(10, 8))\n",
    "            ax = fig.add_subplot(111, projection='3d')\n",
    "#             ax.set_xlim([-self.orbit_radius * 1.1, self.orbit_radius * 1.1])\n",
    "#             ax.set_ylim([-self.orbit_radius * 1.1, self.orbit_radius * 1.1])\n",
    "#             ax.set_zlim([-self.orbit_radius * 0.1, self.orbit_radius * 0.1])\n",
    "            ax.set_xlim([-self.show_range, self.show_range])\n",
    "            ax.set_ylim([-self.show_range, self.show_range])\n",
    "            ax.set_zlim([-self.show_range, self.show_range])\n",
    "    \n",
    "            # earth surface\n",
    "            u = np.linspace(0, 2 * np.pi, 200)\n",
    "            v = np.linspace(0, np.pi, 200)\n",
    "            x = self.re * np.outer(np.cos(u), np.sin(v))\n",
    "            y = self.re * np.outer(np.sin(u), np.sin(v))\n",
    "            z = self.rp * np.outer(np.ones(np.size(u)), np.cos(v))\n",
    "    \n",
    "            # progress of the trajectory\n",
    "            progress_index = int(len(self.x_positions) * progress / 100)\n",
    "            \n",
    "            ax.plot_surface(x, y, z, color='b', rstride=4, cstride=4, alpha=0.5)\n",
    "            ax.plot(self.x_positions[:progress_index], self.y_positions[:progress_index], self.z_positions[:progress_index], 'r')\n",
    "            ax.view_init(elev=elev, azim=azim)\n",
    "            plt.show()\n",
    "\n",
    "    \n",
    "    def start_animation(self):\n",
    "        for progress in range(101):\n",
    "            self.update_view(progress=progress)\n",
    "            time.sleep(0.1)\n",
    "    \n",
    "    def visualise(self):\n",
    "        button = Button(description=\"Start Animation\")\n",
    "        button.on_click(lambda rp: self.start_animation())\n",
    "        display(button)\n",
    "        \n",
    "        interact(self.update_view,\n",
    "                 elev=FloatSlider(min=-90, max=90, step=5, value=30),\n",
    "                 azim=FloatSlider(min=0, max=360, step=5, value=30),\n",
    "                 progress=FloatSlider(min=0, max=100, step=1, value=100, continuous_update=False))\n",
    "\n",
    "orbit_radius = Earth().re + 200000 \n",
    "theta = np.linspace(0, 2 * np.pi, 100)\n",
    "orbit_x = orbit_radius * np.cos(theta)\n",
    "orbit_y = orbit_radius * np.sin(theta)\n",
    "orbit_z = np.zeros_like(orbit_x)  \n",
    "\n",
    "visual = Visualisation(orbit_x,orbit_y,orbit_z)\n",
    "visual.visualise()\n",
    "    "
   ],
   "outputs": [
    {
     "data": {
      "text/plain": [
       "Output()"
      ],
      "application/vnd.jupyter.widget-view+json": {
       "version_major": 2,
       "version_minor": 0,
       "model_id": "b6fce8d1a35e4de9b8c3be4fb33ba91c"
      }
     },
     "metadata": {},
     "output_type": "display_data"
    },
    {
     "data": {
      "text/plain": [
       "Button(description='Start Animation', style=ButtonStyle())"
      ],
      "application/vnd.jupyter.widget-view+json": {
       "version_major": 2,
       "version_minor": 0,
       "model_id": "a59ad29ddb69405487ea6dea1773fecf"
      }
     },
     "metadata": {},
     "output_type": "display_data"
    },
    {
     "data": {
      "text/plain": [
       "interactive(children=(FloatSlider(value=30.0, description='elev', max=90.0, min=-90.0, step=5.0), FloatSlider(…"
      ],
      "application/vnd.jupyter.widget-view+json": {
       "version_major": 2,
       "version_minor": 0,
       "model_id": "e7618737087e4823885dadb877c96c6e"
      }
     },
     "metadata": {},
     "output_type": "display_data"
    }
   ],
   "execution_count": 19
  },
  {
   "metadata": {
    "ExecuteTime": {
     "end_time": "2024-05-07T13:52:26.833639Z",
     "start_time": "2024-05-07T13:52:26.832160Z"
    }
   },
   "cell_type": "code",
   "source": "",
   "id": "68f2834364c46540",
   "outputs": [],
   "execution_count": 6
  },
  {
   "metadata": {},
   "cell_type": "code",
   "outputs": [],
   "execution_count": null,
   "source": "",
   "id": "97a6161a849bb7f3"
  }
 ],
 "metadata": {
  "kernelspec": {
   "display_name": "Python 3",
   "language": "python",
   "name": "python3"
  },
  "language_info": {
   "codemirror_mode": {
    "name": "ipython",
    "version": 2
   },
   "file_extension": ".py",
   "mimetype": "text/x-python",
   "name": "python",
   "nbconvert_exporter": "python",
   "pygments_lexer": "ipython2",
   "version": "2.7.6"
  }
 },
 "nbformat": 4,
 "nbformat_minor": 5
}
