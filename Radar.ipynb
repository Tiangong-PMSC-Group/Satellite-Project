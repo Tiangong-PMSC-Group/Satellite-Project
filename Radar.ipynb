{
 "cells": [
  {
   "cell_type": "code",
   "execution_count": null,
   "metadata": {},
   "outputs": [],
   "source": [
    "import numpy as np\n",
    "import math\n",
    "import utilities as ut\n",
    "\n",
    "\n",
    "class Radar():   \n",
    "    def __init__(self, position):\n",
    "        self.position = position\n",
    "        self.last_ping = 0 \n",
    "        self.sate_pos_detected = None\n",
    "    \n",
    "    # If the radat can detect the satellite, update sat position and last ping.\n",
    "    def line_of_sight(self, Sat_Pos, Earth_Eqn,current_time):\n",
    "        '''\n",
    "        Sat - Satellite Position\n",
    "        Earth - Earth Ellipse Equation\n",
    "        '''\n",
    "\n",
    "        #Build the iterative line towards satellite in Cartesian \n",
    "        x = ut.p_to_c(Sat_Pos)\n",
    "        p = ut.p_to_c(self.position)\n",
    "\n",
    "        v0 = x - p\n",
    "        mag = np.sqrt(v0.dot(v0))\n",
    "        v0 = v0/mag\n",
    "\n",
    "        #Checks if the line from dish to satellite goes into Earth.\n",
    "        for t in range(10)[1:]: #decrease if working for less comp time \n",
    "            LOS_p = p + v0*t\n",
    "            if Earth_Eqn(LOS_p[0], LOS_p[1], LOS_p[2]) < 0:\n",
    "                return False\n",
    "        \n",
    "        #If no LOS break, return True\n",
    "        sate_pos_detected = add_noise(Sat_Pos)\n",
    "        self.last_ping = current_time\n",
    "        return True\n",
    "        \n",
    "\n",
    "def add_noise(position, noise_level=1.0):\n",
    "    \"\"\"\n",
    "    Adds Gaussian noise to a satellite position.\n",
    "\n",
    "    :param position: Original position of the satellite (numpy array or list).\n",
    "    :param noise_level: Standard deviation of the Gaussian noise.\n",
    "    :return: Noisy position.\n",
    "    \"\"\"\n",
    "    noisy_position = np.array(position) + np.random.normal(0, noise_level, size=np.shape(position))\n",
    "    return noisy_position\n"
   ]
  }
 ],
 "metadata": {
  "language_info": {
   "name": "python"
  }
 },
 "nbformat": 4,
 "nbformat_minor": 2
}
