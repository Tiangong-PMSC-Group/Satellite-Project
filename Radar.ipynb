{
 "cells": [
  {
   "cell_type": "code",
   "execution_count": null,
   "metadata": {},
   "outputs": [],
   "source": [
    "import numpy as np\n",
    "import math\n",
    "import utilities as ut\n",
    "\n",
    "class Radar():\n",
    "    def __init__(self, position):\n",
    "        self.position = position\n",
    "        self.last_ping = 0 \n",
    "    \n",
    "    def line_of_sight(self, Sat_Pos, Earth_Eqn):\n",
    "        '''\n",
    "        Sat - Satellite Position\n",
    "        Earth - Earth Ellipse Equation\n",
    "        '''\n",
    "\n",
    "\n"
   ]
  }
 ],
 "metadata": {
  "language_info": {
   "name": "python"
  }
 },
 "nbformat": 4,
 "nbformat_minor": 2
}
